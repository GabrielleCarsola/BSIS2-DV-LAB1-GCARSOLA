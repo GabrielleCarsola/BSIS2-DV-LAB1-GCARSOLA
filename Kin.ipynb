{
  "nbformat": 4,
  "nbformat_minor": 0,
  "metadata": {
    "colab": {
      "provenance": [],
      "name": "Kin.ipynb",
      "include_colab_link": true
    },
    "kernelspec": {
      "name": "python3",
      "display_name": "Python 3"
    },
    "language_info": {
      "name": "python"
    }
  },
  "cells": [
    {
      "cell_type": "markdown",
      "metadata": {
        "id": "view-in-github",
        "colab_type": "text"
      },
      "source": [
        "<a href=\"https://colab.research.google.com/github/GabrielleCarsola/BSIS2-DV-LAB1-GCARSOLA/blob/main/Kin.ipynb\" target=\"_parent\"><img src=\"https://colab.research.google.com/assets/colab-badge.svg\" alt=\"Open In Colab\"/></a>"
      ]
    },
    {
      "cell_type": "code",
      "source": [
        "print('Enter the first number')\n",
        "x = float(input())\n",
        "print('Enter the second number')\n",
        "y = float(input())\n",
        "\n",
        "sum = (x) + (y)\n",
        "dif = (x) - (y)\n",
        "pro = (x) * (y)\n",
        "quo = (x) / (y)\n",
        "pow = (x) ** (y)\n",
        "div = (x) / (y)\n",
        "rem = (x) % (y)\n",
        "\n",
        "print ('Sum:', x, '+', y, '=', sum)\n",
        "print ('Difference:', x, '-', y, '=', dif)\n",
        "print ('Product:', x, '*', y, '=', pro)\n",
        "print ('Quotient:', x, '/', y, '=', quo)\n",
        "print ('Power:', x, '^', y, '=', pow)\n",
        "print ('Division with remainder:', x, '/', y, '=', div)\n",
        "print ('Remainder:', x, '%', y, '=', rem)"
      ],
      "metadata": {
        "id": "LPjxByUWOteW",
        "outputId": "35a43ed6-e01f-408f-bdbe-6bcc0af3db17",
        "colab": {
          "base_uri": "https://localhost:8080/"
        }
      },
      "execution_count": 1,
      "outputs": [
        {
          "output_type": "stream",
          "name": "stdout",
          "text": [
            "Enter the first number\n",
            "37\n",
            "Enter the second number\n",
            "29\n",
            "Sum: 37.0 + 29.0 = 66.0\n",
            "Difference: 37.0 - 29.0 = 8.0\n",
            "Product: 37.0 * 29.0 = 1073.0\n",
            "Quotient: 37.0 / 29.0 = 1.2758620689655173\n",
            "Power: 37.0 ^ 29.0 = 3.005038205702535e+45\n",
            "Division with remainder: 37.0 / 29.0 = 1.2758620689655173\n",
            "Remainder: 37.0 % 29.0 = 8.0\n"
          ]
        }
      ]
    }
  ]
}